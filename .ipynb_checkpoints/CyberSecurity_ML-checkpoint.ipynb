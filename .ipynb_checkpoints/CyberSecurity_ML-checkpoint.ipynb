{
 "cells": [
  {
   "cell_type": "code",
   "execution_count": 1,
   "metadata": {},
   "outputs": [
    {
     "name": "stderr",
     "output_type": "stream",
     "text": [
      "Using TensorFlow backend.\n"
     ]
    }
   ],
   "source": [
    "import numpy as np\n",
    "import pandas as pd\n",
    "from sklearn.preprocessing import LabelEncoder , MinMaxScaler\n",
    "\n",
    "from keras.models import Sequential\n",
    "from keras.layers import Dense , Dropout\n",
    "from keras.optimizers import RMSprop , adam\n",
    "\n",
    "import tensorflow as tf\n",
    "from tensorflow.python.platform import flags\n",
    "\n",
    "from sklearn.multiclass import OneVsRestClassifier\n",
    "from sklearn.tree import DecisionTreeClassifier\n",
    "from sklearn.ensemble import RandomForestClassifier , VotingClassifier\n",
    "from sklearn.linear_model import LogisticRegression\n",
    "\n",
    "from sklearn.metrics import accuracy_score , roc_curve , auc , f1_score\n",
    "from sklearn.preprocessing import LabelEncoder , MinMaxScaler\n",
    "from sklearn.svm import SVC , LinearSVC\n",
    "\n",
    "import matplotlib . pyplot as plt\n",
    "plt.style.use('bmh')\n",
    "\n",
    "FLAGS = flags.FLAGS\n",
    "\n",
    "flags.DEFINE_integer (\"nb_epochs\", 20 , \"Number of epochs to train model\")\n",
    "flags.DEFINE_integer (\"batch_size\", 128 , \"Size of training batches\")\n",
    "flags.DEFINE_float (\"learning_rate\", 0.1 , \"Learning rate for training\")\n",
    "flags.DEFINE_integer (\"nb_classes\" , 5 , \"Number of classification classes\")\n",
    "flags.DEFINE_integer (\"source_samples\" , 10 , \"Nb of test set examples to attack\")\n",
    "\n",
    "from pyspark.sql import SparkSession\n",
    "from pyspark.sql.types import StructField, StringType, IntegerType, StructType\n",
    "from pyspark.sql.functions import *"
   ]
  },
  {
   "cell_type": "code",
   "execution_count": 10,
   "metadata": {},
   "outputs": [],
   "source": [
    "spark = SparkSession.builder.appName(\"cybersecurity\").getOrCreate()\n",
    "df_test = spark.read.csv('KDDTest+.csv',inferSchema=True,header=False).toDF(\"duration\", \"protocol\" , \"service\" , \"flag\", \"src_bytes\", \"dst_bytes\", \"land\", \"wrong_fragment\", \"urgent\", \n",
    "         \"hot\", \"num_failed_logins\", \"logged_in \", \"num_compromised\", \"root_shell\", \"su_attempted\", \"num_root\", \n",
    "         \"num_file_creations\", \"num_shells\", \"num_access_files\",\"num_outbound_cmds \",\"is_host_login \", \"is_guest_login\",\n",
    "         \"count\", \"srv_count\", \"serror_rate\", \"srv_serror_rate\",\"rerror_rate\", \"srv_rerror_rate\", \"same_srv_rate\", \n",
    "         \"diff_srv_rate\", \"srv_diff_host_rate\", \"dst_host_count\", \" dst_host_srv_count\", \"dst_host_same_srv_rate\", \n",
    "         \"dst_host_diff_srv_rate\",\"dst_host_same_src_port_rate\", \" dst_host_srv_diff_host_rate\", \"dst_host_serror_rate\",\n",
    "         \"dst_host_srv_serror_rate\", \"dst_host_rerror_rate\", \"dst_host_srv_rerror_rate\", \"attack_type\", \"other\")\n",
    "df_train = spark.read.csv('KDDTrain+.csv',inferSchema=True,header=False).toDF(\"duration\", \"protocol\" , \"service\" , \"flag\", \"src_bytes\", \"dst_bytes\", \"land\", \"wrong_fragment\", \"urgent\", \n",
    "         \"hot\", \"num_failed_logins\", \"logged_in \", \"num_compromised\", \"root_shell\", \"su_attempted\", \"num_root\", \n",
    "         \"num_file_creations\", \"num_shells\", \"num_access_files\",\"num_outbound_cmds \",\"is_host_login \", \"is_guest_login\",\n",
    "         \"count\", \"srv_count\", \"serror_rate\", \"srv_serror_rate\",\"rerror_rate\", \"srv_rerror_rate\", \"same_srv_rate\", \n",
    "         \"diff_srv_rate\", \"srv_diff_host_rate\", \"dst_host_count\", \" dst_host_srv_count\", \"dst_host_same_srv_rate\", \n",
    "         \"dst_host_diff_srv_rate\",\"dst_host_same_src_port_rate\", \" dst_host_srv_diff_host_rate\", \"dst_host_serror_rate\",\n",
    "         \"dst_host_srv_serror_rate\", \"dst_host_rerror_rate\", \"dst_host_srv_rerror_rate\", \"attack_type\", \"other\")"
   ]
  },
  {
   "cell_type": "code",
   "execution_count": 22,
   "metadata": {},
   "outputs": [],
   "source": [
    "df_test = df_test.na.replace([\"neptune\", \"back\", \"land\", \"pod\", \"smurf\", \"teardrop\", \"mailbomb\", \"processtable\", \"udpstorm\", \"apache2\", \"worm\"], \"dos\", \"attack_type\")\n",
    "df_train = df_train.na.replace([\"neptune\", \"back\", \"land\", \"pod\", \"smurf\", \"teardrop\", \"mailbomb\", \"processtable\", \"udpstorm\", \"apache2\", \"worm\"], \"dos\", \"attack_type\")\n",
    "df_test = df_test.na.replace([\"buffer_overflow \", \"loadmodule\", \"perl\", \"rootkit\", \"sqlattack\", \"xterm\", \"ps\"], \"u2r\", \"attack_type\")\n",
    "df_train = df_train.na.replace([\"buffer_overflow \", \"loadmodule\", \"perl\", \"rootkit\", \"sqlattack\", \"xterm\", \"ps\"], \"u2r\", \"attack_type\")\n",
    "df_test = df_test.na.replace([\"ftp_write\", \"guess_passwd\", \"imap\", \"multihop\", \"phf\", \"spy\", \"warezclient\", \"warezmaster\", \"xlock\", \"xsnoop\", \"snmpgetattack\", \"httptunnel\", \"snmpguess\", \"sendmail\", \"named\"], \"r2l\", \"attack_type\")\n",
    "df_train = df_train.na.replace([\"ftp_write\", \"guess_passwd\", \"imap\", \"multihop\", \"phf\", \"spy\", \"warezclient\", \"warezmaster\", \"xlock\", \"xsnoop\", \"snmpgetattack\", \"httptunnel\", \"snmpguess\", \"sendmail\", \"named\"], \"r2l\", \"attack_type\")\n",
    "\n",
    "\n"
   ]
  },
  {
   "cell_type": "code",
   "execution_count": 23,
   "metadata": {},
   "outputs": [
    {
     "name": "stdout",
     "output_type": "stream",
     "text": [
      "+--------+--------+-------+----+---------+---------+----+--------------+------+---+-----------------+----------+---------------+----------+------------+--------+------------------+----------+----------------+------------------+--------------+--------------+-----+---------+-----------+---------------+-----------+---------------+-------------+-------------+------------------+--------------+-------------------+----------------------+----------------------+---------------------------+----------------------------+--------------------+------------------------+--------------------+------------------------+-----------+-----+\n",
      "|duration|protocol|service|flag|src_bytes|dst_bytes|land|wrong_fragment|urgent|hot|num_failed_logins|logged_in |num_compromised|root_shell|su_attempted|num_root|num_file_creations|num_shells|num_access_files|num_outbound_cmds |is_host_login |is_guest_login|count|srv_count|serror_rate|srv_serror_rate|rerror_rate|srv_rerror_rate|same_srv_rate|diff_srv_rate|srv_diff_host_rate|dst_host_count| dst_host_srv_count|dst_host_same_srv_rate|dst_host_diff_srv_rate|dst_host_same_src_port_rate| dst_host_srv_diff_host_rate|dst_host_serror_rate|dst_host_srv_serror_rate|dst_host_rerror_rate|dst_host_srv_rerror_rate|attack_type|other|\n",
      "+--------+--------+-------+----+---------+---------+----+--------------+------+---+-----------------+----------+---------------+----------+------------+--------+------------------+----------+----------------+------------------+--------------+--------------+-----+---------+-----------+---------------+-----------+---------------+-------------+-------------+------------------+--------------+-------------------+----------------------+----------------------+---------------------------+----------------------------+--------------------+------------------------+--------------------+------------------------+-----------+-----+\n",
      "+--------+--------+-------+----+---------+---------+----+--------------+------+---+-----------------+----------+---------------+----------+------------+--------+------------------+----------+----------------+------------------+--------------+--------------+-----+---------+-----------+---------------+-----------+---------------+-------------+-------------+------------------+--------------+-------------------+----------------------+----------------------+---------------------------+----------------------------+--------------------+------------------------+--------------------+------------------------+-----------+-----+\n",
      "\n"
     ]
    }
   ],
   "source": [
    "df_test[df_test.attack_type == \"back\"].show()"
   ]
  },
  {
   "cell_type": "code",
   "execution_count": 9,
   "metadata": {},
   "outputs": [
    {
     "name": "stdout",
     "output_type": "stream",
     "text": [
      "+--------+--------+--------+----+---------+---------+----+--------------+------+---+-----------------+----------+---------------+----------+------------+--------+------------------+----------+----------------+------------------+--------------+--------------+-----+---------+-----------+---------------+-----------+---------------+-------------+-------------+------------------+--------------+-------------------+----------------------+----------------------+---------------------------+----------------------------+--------------------+------------------------+--------------------+------------------------+------------+-----+\n",
      "|duration|protocol| service|flag|src_bytes|dst_bytes|land|wrong_fragment|urgent|hot|num_failed_logins|logged_in |num_compromised|root_shell|su_attempted|num_root|num_file_creations|num_shells|num_access_files|num_outbound_cmds |is_host_login |is_guest_login|count|srv_count|serror_rate|srv_serror_rate|rerror_rate|srv_rerror_rate|same_srv_rate|diff_srv_rate|srv_diff_host_rate|dst_host_count| dst_host_srv_count|dst_host_same_srv_rate|dst_host_diff_srv_rate|dst_host_same_src_port_rate| dst_host_srv_diff_host_rate|dst_host_serror_rate|dst_host_srv_serror_rate|dst_host_rerror_rate|dst_host_srv_rerror_rate| attack_type|other|\n",
      "+--------+--------+--------+----+---------+---------+----+--------------+------+---+-----------------+----------+---------------+----------+------------+--------+------------------+----------+----------------+------------------+--------------+--------------+-----+---------+-----------+---------------+-----------+---------------+-------------+-------------+------------------+--------------+-------------------+----------------------+----------------------+---------------------------+----------------------------+--------------------+------------------------+--------------------+------------------------+------------+-----+\n",
      "|       0|     tcp| private| REJ|        0|        0|   0|             0|     0|  0|                0|         0|              0|         0|           0|       0|                 0|         0|               0|                 0|             0|             0|  229|       10|        0.0|            0.0|        1.0|            1.0|         0.04|         0.06|               0.0|           255|                 10|                  0.04|                  0.06|                        0.0|                         0.0|                 0.0|                     0.0|                 1.0|                     1.0|         dos|   21|\n",
      "|       0|     tcp| private| REJ|        0|        0|   0|             0|     0|  0|                0|         0|              0|         0|           0|       0|                 0|         0|               0|                 0|             0|             0|  136|        1|        0.0|            0.0|        1.0|            1.0|         0.01|         0.06|               0.0|           255|                  1|                   0.0|                  0.06|                        0.0|                         0.0|                 0.0|                     0.0|                 1.0|                     1.0|         dos|   21|\n",
      "|       2|     tcp|ftp_data|  SF|    12983|        0|   0|             0|     0|  0|                0|         0|              0|         0|           0|       0|                 0|         0|               0|                 0|             0|             0|    1|        1|        0.0|            0.0|        0.0|            0.0|          1.0|          0.0|               0.0|           134|                 86|                  0.61|                  0.04|                       0.61|                        0.02|                 0.0|                     0.0|                 0.0|                     0.0|      normal|   21|\n",
      "|       0|    icmp|   eco_i|  SF|       20|        0|   0|             0|     0|  0|                0|         0|              0|         0|           0|       0|                 0|         0|               0|                 0|             0|             0|    1|       65|        0.0|            0.0|        0.0|            0.0|          1.0|          0.0|               1.0|             3|                 57|                   1.0|                   0.0|                        1.0|                        0.28|                 0.0|                     0.0|                 0.0|                     0.0|       saint|   15|\n",
      "|       1|     tcp|  telnet|RSTO|        0|       15|   0|             0|     0|  0|                0|         0|              0|         0|           0|       0|                 0|         0|               0|                 0|             0|             0|    1|        8|        0.0|           0.12|        1.0|            0.5|          1.0|          0.0|              0.75|            29|                 86|                  0.31|                  0.17|                       0.03|                        0.02|                 0.0|                     0.0|                0.83|                    0.71|       mscan|   11|\n",
      "|       0|     tcp|    http|  SF|      267|    14515|   0|             0|     0|  0|                0|         1|              0|         0|           0|       0|                 0|         0|               0|                 0|             0|             0|    4|        4|        0.0|            0.0|        0.0|            0.0|          1.0|          0.0|               0.0|           155|                255|                   1.0|                   0.0|                       0.01|                        0.03|                0.01|                     0.0|                 0.0|                     0.0|      normal|   21|\n",
      "|       0|     tcp|    smtp|  SF|     1022|      387|   0|             0|     0|  0|                0|         1|              0|         0|           0|       0|                 0|         0|               0|                 0|             0|             0|    1|        3|        0.0|            0.0|        0.0|            0.0|          1.0|          0.0|               1.0|           255|                 28|                  0.11|                  0.72|                        0.0|                         0.0|                 0.0|                     0.0|                0.72|                    0.04|      normal|   21|\n",
      "|       0|     tcp|  telnet|  SF|      129|      174|   0|             0|     0|  0|                1|         0|              0|         0|           0|       0|                 0|         0|               0|                 0|             0|             0|    1|        1|        0.0|            0.0|        0.0|            0.0|          1.0|          0.0|               0.0|           255|                255|                   1.0|                   0.0|                        0.0|                         0.0|                0.01|                    0.01|                0.02|                    0.02|guess_passwd|   15|\n",
      "|       0|     tcp|    http|  SF|      327|      467|   0|             0|     0|  0|                0|         1|              0|         0|           0|       0|                 0|         0|               0|                 0|             0|             0|   33|       47|        0.0|            0.0|        0.0|            0.0|          1.0|          0.0|              0.04|           151|                255|                   1.0|                   0.0|                       0.01|                        0.03|                 0.0|                     0.0|                 0.0|                     0.0|      normal|   21|\n",
      "|       0|     tcp|     ftp|  SF|       26|      157|   0|             0|     0|  0|                1|         0|              0|         0|           0|       0|                 0|         0|               0|                 0|             0|             1|    1|        1|        0.0|            0.0|        0.0|            0.0|          1.0|          0.0|               0.0|            52|                 26|                   0.5|                  0.08|                       0.02|                         0.0|                 0.0|                     0.0|                 0.0|                     0.0|guess_passwd|    7|\n",
      "|       0|     tcp|  telnet|  SF|        0|        0|   0|             0|     0|  0|                0|         0|              0|         0|           0|       0|                 0|         0|               0|                 0|             0|             0|    1|        1|        0.0|            0.0|        0.0|            0.0|          1.0|          0.0|               0.0|           255|                128|                   0.5|                  0.01|                        0.0|                         0.0|                 0.0|                     0.0|                0.66|                    0.32|       mscan|    9|\n",
      "|       0|     tcp|    smtp|  SF|      616|      330|   0|             0|     0|  0|                0|         1|              0|         0|           0|       0|                 0|         0|               0|                 0|             0|             0|    1|        2|        0.0|            0.0|        0.0|            0.0|          1.0|          0.0|               1.0|           255|                129|                  0.51|                  0.03|                        0.0|                         0.0|                 0.0|                     0.0|                0.33|                     0.0|      normal|   18|\n",
      "|       0|     tcp| private| REJ|        0|        0|   0|             0|     0|  0|                0|         0|              0|         0|           0|       0|                 0|         0|               0|                 0|             0|             0|  111|        2|        0.0|            0.0|        1.0|            1.0|         0.02|         0.07|               0.0|           255|                  2|                  0.01|                  0.07|                        0.0|                         0.0|                 0.0|                     0.0|                 1.0|                     1.0|         dos|   21|\n",
      "|       0|     tcp|  telnet|  S0|        0|        0|   0|             0|     0|  0|                0|         0|              0|         0|           0|       0|                 0|         0|               0|                 0|             0|             0|  120|      120|        1.0|            1.0|        0.0|            0.0|          1.0|          0.0|               0.0|           235|                171|                  0.73|                  0.07|                        0.0|                         0.0|                0.69|                    0.95|                0.02|                     0.0|         dos|   18|\n",
      "|      37|     tcp|  telnet|  SF|      773|   364200|   0|             0|     0|  0|                0|         1|              0|         0|           0|       0|                 0|         0|               0|                 0|             0|             0|    1|        1|        0.0|            0.0|        0.0|            0.0|          1.0|          0.0|               0.0|            38|                 73|                  0.16|                  0.05|                       0.03|                        0.04|                 0.0|                    0.77|                 0.0|                    0.07|      normal|   14|\n",
      "|       0|     tcp|    http|  SF|      350|     3610|   0|             0|     0|  0|                0|         1|              0|         0|           0|       0|                 0|         0|               0|                 0|             0|             0|    8|        8|        0.0|            0.0|        0.0|            0.0|          1.0|          0.0|               0.0|            71|                255|                   1.0|                   0.0|                       0.01|                        0.04|                 0.0|                     0.0|                 0.0|                     0.0|      normal|   21|\n",
      "|       0|     tcp|    http|  SF|      213|      659|   0|             0|     0|  0|                0|         1|              0|         0|           0|       0|                 0|         0|               0|                 0|             0|             0|   24|       24|        0.0|            0.0|        0.0|            0.0|          1.0|          0.0|               0.0|           255|                255|                   1.0|                   0.0|                        0.0|                         0.0|                 0.0|                     0.0|                 0.0|                     0.0|      normal|   21|\n",
      "|       0|     tcp|    http|  SF|      246|     2090|   0|             0|     0|  0|                0|         1|              0|         0|           0|       0|                 0|         0|               0|                 0|             0|             0|   16|       16|        0.0|            0.0|        0.0|            0.0|          1.0|          0.0|               0.0|            35|                255|                   1.0|                   0.0|                       0.03|                        0.05|                 0.0|                     0.0|                 0.0|                     0.0|      normal|   21|\n",
      "|       0|     udp| private|  SF|       45|       44|   0|             0|     0|  0|                0|         0|              0|         0|           0|       0|                 0|         0|               0|                 0|             0|             0|  505|      505|        0.0|            0.0|        0.0|            0.0|          1.0|          0.0|               0.0|           255|                255|                   1.0|                   0.0|                        1.0|                         0.0|                 0.0|                     0.0|                 0.0|                     0.0|      normal|   15|\n",
      "|       0|     tcp| private| REJ|        0|        0|   0|             0|     0|  0|                0|         0|              0|         0|           0|       0|                 0|         0|               0|                 0|             0|             0|  204|       18|        0.0|            0.0|        1.0|            1.0|         0.09|         0.07|               0.0|           255|                 18|                  0.07|                  0.07|                        0.0|                         0.0|                 0.0|                     0.0|                 1.0|                     1.0|         dos|   21|\n",
      "+--------+--------+--------+----+---------+---------+----+--------------+------+---+-----------------+----------+---------------+----------+------------+--------+------------------+----------+----------------+------------------+--------------+--------------+-----+---------+-----------+---------------+-----------+---------------+-------------+-------------+------------------+--------------+-------------------+----------------------+----------------------+---------------------------+----------------------------+--------------------+------------------------+--------------------+------------------------+------------+-----+\n",
      "only showing top 20 rows\n",
      "\n"
     ]
    }
   ],
   "source": [
    "df_test.show()"
   ]
  }
 ],
 "metadata": {
  "kernelspec": {
   "display_name": "Python 3",
   "language": "python",
   "name": "python3"
  },
  "language_info": {
   "codemirror_mode": {
    "name": "ipython",
    "version": 3
   },
   "file_extension": ".py",
   "mimetype": "text/x-python",
   "name": "python",
   "nbconvert_exporter": "python",
   "pygments_lexer": "ipython3",
   "version": "3.6.3"
  }
 },
 "nbformat": 4,
 "nbformat_minor": 2
}
