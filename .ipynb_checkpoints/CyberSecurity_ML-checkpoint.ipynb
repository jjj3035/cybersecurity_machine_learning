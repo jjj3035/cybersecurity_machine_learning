{
 "cells": [
  {
   "cell_type": "code",
   "execution_count": 1,
   "metadata": {},
   "outputs": [
    {
     "name": "stderr",
     "output_type": "stream",
     "text": [
      "Using TensorFlow backend.\n"
     ]
    }
   ],
   "source": [
    "import numpy as np\n",
    "import pandas as pd\n",
    "import matplotlib.pyplot as plt\n",
    "\n",
    "from keras.models import Sequential\n",
    "from keras.layers import Dense , Dropout\n",
    "from keras.optimizers import RMSprop , adam\n",
    "from keras.utils import to_categorical\n",
    "from keras.models import load_model\n",
    "\n",
    "import tensorflow as tf\n",
    "from tensorflow.python.platform import flags\n",
    "\n",
    "from sklearn.model_selection import train_test_split\n",
    "from sklearn.preprocessing import LabelEncoder , MinMaxScaler\n",
    "\n",
    "from sklearn.tree import DecisionTreeClassifier\n",
    "from sklearn.ensemble import RandomForestClassifier\n",
    "from sklearn.linear_model import LogisticRegression\n",
    "from sklearn.neighbors import KNeighborsClassifier\n",
    "from sklearn.metrics import accuracy_score\n",
    "from sklearn.preprocessing import LabelEncoder , MinMaxScaler\n",
    "\n",
    "from pyspark.sql import SparkSession\n",
    "from pyspark.sql.types import StructField, StringType, IntegerType, StructType\n",
    "from pyspark.sql.functions import *\n",
    "#from pyspark.ml.feature import OneHotEncoder, StringIndexer\n",
    "#from pyspark.ml.feature import MinMaxScaler\n",
    "#from pyspark.ml.linalg import Vectors"
   ]
  },
  {
   "cell_type": "code",
   "execution_count": 2,
   "metadata": {},
   "outputs": [],
   "source": [
    "#Preprossessing Dataset i.e KDD Test and Training data using SparkSession\n",
    "spark = SparkSession.builder.appName(\"cybersecurity\").getOrCreate()\n",
    "df_test = spark.read.csv('KDDTest+.csv',inferSchema=True,header=False).toDF(\"duration\", \"protocol\" , \"service\" , \"flag\", \"src_bytes\", \"dst_bytes\", \"land\", \"wrong_fragment\", \"urgent\", \n",
    "         \"hot\", \"num_failed_logins\", \"logged_in \", \"num_compromised\", \"root_shell\", \"su_attempted\", \"num_root\", \n",
    "         \"num_file_creations\", \"num_shells\", \"num_access_files\",\"num_outbound_cmds \",\"is_host_login \", \"is_guest_login\",\n",
    "         \"count\", \"srv_count\", \"serror_rate\", \"srv_serror_rate\",\"rerror_rate\", \"srv_rerror_rate\", \"same_srv_rate\", \n",
    "         \"diff_srv_rate\", \"srv_diff_host_rate\", \"dst_host_count\", \" dst_host_srv_count\", \"dst_host_same_srv_rate\", \n",
    "         \"dst_host_diff_srv_rate\",\"dst_host_same_src_port_rate\", \" dst_host_srv_diff_host_rate\", \"dst_host_serror_rate\",\n",
    "         \"dst_host_srv_serror_rate\", \"dst_host_rerror_rate\", \"dst_host_srv_rerror_rate\", \"attack_type\", \"other\")\n",
    "df_train = spark.read.csv('KDDTrain+.csv',inferSchema=True,header=False).toDF(\"duration\", \"protocol\" , \"service\" , \"flag\", \"src_bytes\", \"dst_bytes\", \"land\", \"wrong_fragment\", \"urgent\", \n",
    "         \"hot\", \"num_failed_logins\", \"logged_in \", \"num_compromised\", \"root_shell\", \"su_attempted\", \"num_root\", \n",
    "         \"num_file_creations\", \"num_shells\", \"num_access_files\",\"num_outbound_cmds \",\"is_host_login \", \"is_guest_login\",\n",
    "         \"count\", \"srv_count\", \"serror_rate\", \"srv_serror_rate\",\"rerror_rate\", \"srv_rerror_rate\", \"same_srv_rate\", \n",
    "         \"diff_srv_rate\", \"srv_diff_host_rate\", \"dst_host_count\", \" dst_host_srv_count\", \"dst_host_same_srv_rate\", \n",
    "         \"dst_host_diff_srv_rate\",\"dst_host_same_src_port_rate\", \" dst_host_srv_diff_host_rate\", \"dst_host_serror_rate\",\n",
    "         \"dst_host_srv_serror_rate\", \"dst_host_rerror_rate\", \"dst_host_srv_rerror_rate\", \"attack_type\", \"other\")"
   ]
  },
  {
   "cell_type": "code",
   "execution_count": 3,
   "metadata": {},
   "outputs": [],
   "source": [
    "#Combine both Test and Train Data\n",
    "df = df_train.union(df_test)\n"
   ]
  },
  {
   "cell_type": "code",
   "execution_count": 4,
   "metadata": {},
   "outputs": [],
   "source": [
    "#DOS Attacks\n",
    "df = df.na.replace([\"neptune\", \"back\", \"land\", \"pod\", \"smurf\", \"teardrop\", \"mailbomb\", \"processtable\", \"udpstorm\", \"apache2\", \"worm\"], \"dos\", \"attack_type\")\n",
    "\n",
    "#User to Root Attacks\n",
    "df = df.na.replace([\"buffer_overflow\", \"loadmodule\", \"perl\", \"rootkit\", \"sqlattack\", \"xterm\", \"ps\"], \"u2r\", \"attack_type\")\n",
    "\n",
    "#Remote to Local Attacks\n",
    "df = df.na.replace([\"ftp_write\", \"guess_passwd\", \"imap\", \"multihop\", \"phf\", \"spy\", \"warezclient\", \"warezmaster\", \"xlock\", \"xsnoop\", \"snmpgetattack\", \"httptunnel\", \"snmpguess\", \"sendmail\", \"named\"], \"r2l\", \"attack_type\")\n",
    "\n",
    "#Probe Attacks\n",
    "df = df.na.replace([\"satan\", \"ipsweep\", \"nmap\", \"portsweep\", \"saint\", \"mscan\"], \"probe\", \"attack_type\")\n"
   ]
  },
  {
   "cell_type": "code",
   "execution_count": 5,
   "metadata": {},
   "outputs": [],
   "source": [
    "X = df.select(df.columns[:-2])\n",
    "y = df.select(df.columns[41])"
   ]
  },
  {
   "cell_type": "code",
   "execution_count": 6,
   "metadata": {},
   "outputs": [],
   "source": [
    "X= X.toPandas()\n",
    "y = y.toPandas()"
   ]
  },
  {
   "cell_type": "code",
   "execution_count": 7,
   "metadata": {},
   "outputs": [
    {
     "data": {
      "text/html": [
       "<div>\n",
       "<style>\n",
       "    .dataframe thead tr:only-child th {\n",
       "        text-align: right;\n",
       "    }\n",
       "\n",
       "    .dataframe thead th {\n",
       "        text-align: left;\n",
       "    }\n",
       "\n",
       "    .dataframe tbody tr th {\n",
       "        vertical-align: top;\n",
       "    }\n",
       "</style>\n",
       "<table border=\"1\" class=\"dataframe\">\n",
       "  <thead>\n",
       "    <tr style=\"text-align: right;\">\n",
       "      <th></th>\n",
       "      <th>duration</th>\n",
       "      <th>protocol</th>\n",
       "      <th>service</th>\n",
       "      <th>flag</th>\n",
       "      <th>src_bytes</th>\n",
       "      <th>dst_bytes</th>\n",
       "      <th>land</th>\n",
       "      <th>wrong_fragment</th>\n",
       "      <th>urgent</th>\n",
       "      <th>hot</th>\n",
       "      <th>...</th>\n",
       "      <th>dst_host_count</th>\n",
       "      <th>dst_host_srv_count</th>\n",
       "      <th>dst_host_same_srv_rate</th>\n",
       "      <th>dst_host_diff_srv_rate</th>\n",
       "      <th>dst_host_same_src_port_rate</th>\n",
       "      <th>dst_host_srv_diff_host_rate</th>\n",
       "      <th>dst_host_serror_rate</th>\n",
       "      <th>dst_host_srv_serror_rate</th>\n",
       "      <th>dst_host_rerror_rate</th>\n",
       "      <th>dst_host_srv_rerror_rate</th>\n",
       "    </tr>\n",
       "  </thead>\n",
       "  <tbody>\n",
       "    <tr>\n",
       "      <th>0</th>\n",
       "      <td>0</td>\n",
       "      <td>tcp</td>\n",
       "      <td>ftp_data</td>\n",
       "      <td>SF</td>\n",
       "      <td>491</td>\n",
       "      <td>0</td>\n",
       "      <td>0</td>\n",
       "      <td>0</td>\n",
       "      <td>0</td>\n",
       "      <td>0</td>\n",
       "      <td>...</td>\n",
       "      <td>150</td>\n",
       "      <td>25</td>\n",
       "      <td>0.17</td>\n",
       "      <td>0.03</td>\n",
       "      <td>0.17</td>\n",
       "      <td>0.00</td>\n",
       "      <td>0.00</td>\n",
       "      <td>0.00</td>\n",
       "      <td>0.05</td>\n",
       "      <td>0.00</td>\n",
       "    </tr>\n",
       "    <tr>\n",
       "      <th>1</th>\n",
       "      <td>0</td>\n",
       "      <td>udp</td>\n",
       "      <td>other</td>\n",
       "      <td>SF</td>\n",
       "      <td>146</td>\n",
       "      <td>0</td>\n",
       "      <td>0</td>\n",
       "      <td>0</td>\n",
       "      <td>0</td>\n",
       "      <td>0</td>\n",
       "      <td>...</td>\n",
       "      <td>255</td>\n",
       "      <td>1</td>\n",
       "      <td>0.00</td>\n",
       "      <td>0.60</td>\n",
       "      <td>0.88</td>\n",
       "      <td>0.00</td>\n",
       "      <td>0.00</td>\n",
       "      <td>0.00</td>\n",
       "      <td>0.00</td>\n",
       "      <td>0.00</td>\n",
       "    </tr>\n",
       "    <tr>\n",
       "      <th>2</th>\n",
       "      <td>0</td>\n",
       "      <td>tcp</td>\n",
       "      <td>private</td>\n",
       "      <td>S0</td>\n",
       "      <td>0</td>\n",
       "      <td>0</td>\n",
       "      <td>0</td>\n",
       "      <td>0</td>\n",
       "      <td>0</td>\n",
       "      <td>0</td>\n",
       "      <td>...</td>\n",
       "      <td>255</td>\n",
       "      <td>26</td>\n",
       "      <td>0.10</td>\n",
       "      <td>0.05</td>\n",
       "      <td>0.00</td>\n",
       "      <td>0.00</td>\n",
       "      <td>1.00</td>\n",
       "      <td>1.00</td>\n",
       "      <td>0.00</td>\n",
       "      <td>0.00</td>\n",
       "    </tr>\n",
       "    <tr>\n",
       "      <th>3</th>\n",
       "      <td>0</td>\n",
       "      <td>tcp</td>\n",
       "      <td>http</td>\n",
       "      <td>SF</td>\n",
       "      <td>232</td>\n",
       "      <td>8153</td>\n",
       "      <td>0</td>\n",
       "      <td>0</td>\n",
       "      <td>0</td>\n",
       "      <td>0</td>\n",
       "      <td>...</td>\n",
       "      <td>30</td>\n",
       "      <td>255</td>\n",
       "      <td>1.00</td>\n",
       "      <td>0.00</td>\n",
       "      <td>0.03</td>\n",
       "      <td>0.04</td>\n",
       "      <td>0.03</td>\n",
       "      <td>0.01</td>\n",
       "      <td>0.00</td>\n",
       "      <td>0.01</td>\n",
       "    </tr>\n",
       "    <tr>\n",
       "      <th>4</th>\n",
       "      <td>0</td>\n",
       "      <td>tcp</td>\n",
       "      <td>http</td>\n",
       "      <td>SF</td>\n",
       "      <td>199</td>\n",
       "      <td>420</td>\n",
       "      <td>0</td>\n",
       "      <td>0</td>\n",
       "      <td>0</td>\n",
       "      <td>0</td>\n",
       "      <td>...</td>\n",
       "      <td>255</td>\n",
       "      <td>255</td>\n",
       "      <td>1.00</td>\n",
       "      <td>0.00</td>\n",
       "      <td>0.00</td>\n",
       "      <td>0.00</td>\n",
       "      <td>0.00</td>\n",
       "      <td>0.00</td>\n",
       "      <td>0.00</td>\n",
       "      <td>0.00</td>\n",
       "    </tr>\n",
       "  </tbody>\n",
       "</table>\n",
       "<p>5 rows × 41 columns</p>\n",
       "</div>"
      ],
      "text/plain": [
       "   duration protocol   service flag  src_bytes  dst_bytes  land  \\\n",
       "0         0      tcp  ftp_data   SF        491          0     0   \n",
       "1         0      udp     other   SF        146          0     0   \n",
       "2         0      tcp   private   S0          0          0     0   \n",
       "3         0      tcp      http   SF        232       8153     0   \n",
       "4         0      tcp      http   SF        199        420     0   \n",
       "\n",
       "   wrong_fragment  urgent  hot            ...             dst_host_count  \\\n",
       "0               0       0    0            ...                        150   \n",
       "1               0       0    0            ...                        255   \n",
       "2               0       0    0            ...                        255   \n",
       "3               0       0    0            ...                         30   \n",
       "4               0       0    0            ...                        255   \n",
       "\n",
       "    dst_host_srv_count  dst_host_same_srv_rate  dst_host_diff_srv_rate  \\\n",
       "0                   25                    0.17                    0.03   \n",
       "1                    1                    0.00                    0.60   \n",
       "2                   26                    0.10                    0.05   \n",
       "3                  255                    1.00                    0.00   \n",
       "4                  255                    1.00                    0.00   \n",
       "\n",
       "   dst_host_same_src_port_rate   dst_host_srv_diff_host_rate  \\\n",
       "0                         0.17                          0.00   \n",
       "1                         0.88                          0.00   \n",
       "2                         0.00                          0.00   \n",
       "3                         0.03                          0.04   \n",
       "4                         0.00                          0.00   \n",
       "\n",
       "   dst_host_serror_rate  dst_host_srv_serror_rate  dst_host_rerror_rate  \\\n",
       "0                  0.00                      0.00                  0.05   \n",
       "1                  0.00                      0.00                  0.00   \n",
       "2                  1.00                      1.00                  0.00   \n",
       "3                  0.03                      0.01                  0.00   \n",
       "4                  0.00                      0.00                  0.00   \n",
       "\n",
       "   dst_host_srv_rerror_rate  \n",
       "0                      0.00  \n",
       "1                      0.00  \n",
       "2                      0.00  \n",
       "3                      0.01  \n",
       "4                      0.00  \n",
       "\n",
       "[5 rows x 41 columns]"
      ]
     },
     "execution_count": 7,
     "metadata": {},
     "output_type": "execute_result"
    }
   ],
   "source": [
    "X.head()"
   ]
  },
  {
   "cell_type": "code",
   "execution_count": 8,
   "metadata": {},
   "outputs": [
    {
     "data": {
      "text/plain": [
       "array(['normal', 'dos', 'r2l', 'probe', 'u2r'], dtype=object)"
      ]
     },
     "execution_count": 8,
     "metadata": {},
     "output_type": "execute_result"
    }
   ],
   "source": [
    "y.attack_type.unique()"
   ]
  },
  {
   "cell_type": "code",
   "execution_count": 9,
   "metadata": {},
   "outputs": [
    {
     "name": "stderr",
     "output_type": "stream",
     "text": [
      "/Users/jayachandranjohn/anaconda3/envs/PythonData/lib/python3.6/site-packages/sklearn/preprocessing/label.py:95: DataConversionWarning: A column-vector y was passed when a 1d array was expected. Please change the shape of y to (n_samples, ), for example using ravel().\n",
      "  y = column_or_1d(y, warn=True)\n",
      "/Users/jayachandranjohn/anaconda3/envs/PythonData/lib/python3.6/site-packages/sklearn/preprocessing/label.py:128: DataConversionWarning: A column-vector y was passed when a 1d array was expected. Please change the shape of y to (n_samples, ), for example using ravel().\n",
      "  y = column_or_1d(y, warn=True)\n"
     ]
    },
    {
     "data": {
      "text/plain": [
       "array([[ 0.,  1.,  0.,  0.,  0.],\n",
       "       [ 0.,  1.,  0.,  0.,  0.],\n",
       "       [ 1.,  0.,  0.,  0.,  0.],\n",
       "       ..., \n",
       "       [ 1.,  0.,  0.,  0.,  0.],\n",
       "       [ 0.,  1.,  0.,  0.,  0.],\n",
       "       [ 0.,  0.,  1.,  0.,  0.]], dtype=float32)"
      ]
     },
     "execution_count": 9,
     "metadata": {},
     "output_type": "execute_result"
    }
   ],
   "source": [
    "#Apply Label Encoding and One Hot Encoding to Y Data which resembles classes for different attack types\n",
    "label_encoder = LabelEncoder()\n",
    "label_encoder.fit(y)\n",
    "encoded_y = label_encoder.transform(y)\n",
    "\n",
    "one_hot_y = to_categorical(encoded_y)\n",
    "one_hot_y"
   ]
  },
  {
   "cell_type": "code",
   "execution_count": 10,
   "metadata": {},
   "outputs": [],
   "source": [
    "X = pd.get_dummies(X,drop_first = False)"
   ]
  },
  {
   "cell_type": "code",
   "execution_count": 11,
   "metadata": {
    "collapsed": true
   },
   "outputs": [],
   "source": [
    "X_train, X_test, y_train, y_test = train_test_split(X, one_hot_y, random_state=42)"
   ]
  },
  {
   "cell_type": "code",
   "execution_count": 12,
   "metadata": {},
   "outputs": [],
   "source": [
    "# Next, we normalize our training data to be between 0 and 1\n",
    "\n",
    "# The fit method calculates the min and max of our original training data\n",
    "scaler = MinMaxScaler().fit(X_train)\n",
    "\n",
    "# The transform method transforms the original values to a range between 0 and 1\n",
    "# using the min and max computed above\n",
    "X_train_scaled = scaler.transform(X_train)\n",
    "X_test_scaled = scaler.transform(X_test)"
   ]
  },
  {
   "cell_type": "markdown",
   "metadata": {},
   "source": [
    "# Decision Tree Classifier"
   ]
  },
  {
   "cell_type": "code",
   "execution_count": 14,
   "metadata": {},
   "outputs": [
    {
     "data": {
      "text/plain": [
       "0.9919200624848501"
      ]
     },
     "execution_count": 14,
     "metadata": {},
     "output_type": "execute_result"
    }
   ],
   "source": [
    "#Accuracy using Decision Tree Classifier\n",
    "\n",
    "clf = DecisionTreeClassifier()\n",
    "clf = clf.fit(X_train_scaled, y_train)\n",
    "dt_score = clf.score(X_test_scaled, y_test)\n",
    "dt_score"
   ]
  },
  {
   "cell_type": "markdown",
   "metadata": {},
   "source": [
    "# Random Forest Classifier"
   ]
  },
  {
   "cell_type": "code",
   "execution_count": 15,
   "metadata": {},
   "outputs": [
    {
     "data": {
      "text/plain": [
       "0.99429017748929405"
      ]
     },
     "execution_count": 15,
     "metadata": {},
     "output_type": "execute_result"
    }
   ],
   "source": [
    "#Accuracy using Random Forest Classifier\n",
    "\n",
    "rf = RandomForestClassifier(n_estimators=200)\n",
    "rf = rf.fit(X_train_scaled, y_train)\n",
    "rf_score=rf.score(X_test_scaled, y_test)\n",
    "rf_score"
   ]
  },
  {
   "cell_type": "markdown",
   "metadata": {},
   "source": [
    "# K Nearest Neighbor"
   ]
  },
  {
   "cell_type": "code",
   "execution_count": null,
   "metadata": {},
   "outputs": [],
   "source": [
    "#Accuracy using K Nearest Neighbor\n",
    "# Loop through different k values to see which has the highest accuracy\n",
    "# Note: We only use odd numbers because we don't want any ties\n",
    "train_scores = []\n",
    "test_scores = []\n",
    "for k in range(1, 8, 2):\n",
    "    knn = KNeighborsClassifier(n_neighbors=k)\n",
    "    knn.fit(X_train_scaled, y_train)\n",
    "    train_score = knn.score(X_train_scaled, y_train)\n",
    "    test_score = knn.score(X_test_scaled, y_test)\n",
    "    train_scores.append(train_score)\n",
    "    test_scores.append(test_score)\n",
    "    print(f\"k: {k}, Train/Test Score: {train_score:.3f}/{test_score:.3f}\")\n",
    "    \n",
    "    \n",
    "plt.plot(range(1, 8, 2), train_scores, marker='o')\n",
    "plt.plot(range(1, 8, 2), test_scores, marker=\"x\")\n",
    "plt.xlabel(\"k neighbors\")\n",
    "plt.ylabel(\"Testing accuracy Score\")\n",
    "plt.show()"
   ]
  },
  {
   "cell_type": "code",
   "execution_count": null,
   "metadata": {},
   "outputs": [],
   "source": [
    "# Note that k: 7 provides the best accuracy where the classifier starts to stablize\n",
    "knn = KNeighborsClassifier(n_neighbors=7)\n",
    "knn.fit(X_train, y_train)\n",
    "knn_score = knn.score(X_test, y_test)\n",
    "print('k=7 Test Acc: %.3f' % knn_score)"
   ]
  },
  {
   "cell_type": "code",
   "execution_count": 21,
   "metadata": {},
   "outputs": [
    {
     "data": {
      "text/plain": [
       "(111387, 122)"
      ]
     },
     "execution_count": 21,
     "metadata": {},
     "output_type": "execute_result"
    }
   ],
   "source": [
    "X_train.shape"
   ]
  },
  {
   "cell_type": "markdown",
   "metadata": {},
   "source": [
    "# Deep Learning"
   ]
  },
  {
   "cell_type": "code",
   "execution_count": 37,
   "metadata": {},
   "outputs": [],
   "source": [
    "# first, create a normal neural network with 122 inputs, 6 hidden nodes, and 5 outputs\n",
    "model = Sequential()\n",
    "model.add(Dense(units=6, activation='relu', input_dim=122))\n",
    "model.add(Dense(units=5, activation='softmax'))"
   ]
  },
  {
   "cell_type": "code",
   "execution_count": 38,
   "metadata": {},
   "outputs": [
    {
     "name": "stdout",
     "output_type": "stream",
     "text": [
      "_________________________________________________________________\n",
      "Layer (type)                 Output Shape              Param #   \n",
      "=================================================================\n",
      "dense_7 (Dense)              (None, 6)                 738       \n",
      "_________________________________________________________________\n",
      "dense_8 (Dense)              (None, 5)                 35        \n",
      "=================================================================\n",
      "Total params: 773\n",
      "Trainable params: 773\n",
      "Non-trainable params: 0\n",
      "_________________________________________________________________\n"
     ]
    }
   ],
   "source": [
    "model.summary()"
   ]
  },
  {
   "cell_type": "code",
   "execution_count": 39,
   "metadata": {
    "collapsed": true
   },
   "outputs": [],
   "source": [
    "# Compile the model\n",
    "model.compile(optimizer='adam',\n",
    "              loss='categorical_crossentropy',\n",
    "              metrics=['accuracy'])"
   ]
  },
  {
   "cell_type": "code",
   "execution_count": 40,
   "metadata": {},
   "outputs": [
    {
     "name": "stdout",
     "output_type": "stream",
     "text": [
      "Epoch 1/100\n",
      " - 5s - loss: 0.2588 - acc: 0.9202\n",
      "Epoch 2/100\n",
      " - 5s - loss: 0.1252 - acc: 0.9592\n",
      "Epoch 3/100\n",
      " - 5s - loss: 0.1104 - acc: 0.9616\n",
      "Epoch 4/100\n",
      " - 5s - loss: 0.1019 - acc: 0.9638\n",
      "Epoch 5/100\n",
      " - 5s - loss: 0.0957 - acc: 0.9655\n",
      "Epoch 6/100\n",
      " - 5s - loss: 0.0910 - acc: 0.9668\n",
      "Epoch 7/100\n",
      " - 5s - loss: 0.0872 - acc: 0.9682\n",
      "Epoch 8/100\n",
      " - 5s - loss: 0.0837 - acc: 0.9696\n",
      "Epoch 9/100\n",
      " - 5s - loss: 0.0805 - acc: 0.9705\n",
      "Epoch 10/100\n",
      " - 5s - loss: 0.0770 - acc: 0.9727\n",
      "Epoch 11/100\n",
      " - 5s - loss: 0.0739 - acc: 0.9740\n",
      "Epoch 12/100\n",
      " - 5s - loss: 0.0713 - acc: 0.9758\n",
      "Epoch 13/100\n",
      " - 5s - loss: 0.0687 - acc: 0.9767\n",
      "Epoch 14/100\n",
      " - 6s - loss: 0.0667 - acc: 0.9779\n",
      "Epoch 15/100\n",
      " - 5s - loss: 0.0651 - acc: 0.9785\n",
      "Epoch 16/100\n",
      " - 5s - loss: 0.0640 - acc: 0.9786\n",
      "Epoch 17/100\n",
      " - 5s - loss: 0.0628 - acc: 0.9794\n",
      "Epoch 18/100\n",
      " - 5s - loss: 0.0622 - acc: 0.9795\n",
      "Epoch 19/100\n",
      " - 5s - loss: 0.0617 - acc: 0.9793\n",
      "Epoch 20/100\n",
      " - 5s - loss: 0.0612 - acc: 0.9793\n",
      "Epoch 21/100\n",
      " - 5s - loss: 0.0605 - acc: 0.9802\n",
      "Epoch 22/100\n",
      " - 6s - loss: 0.0601 - acc: 0.9802\n",
      "Epoch 23/100\n",
      " - 5s - loss: 0.0597 - acc: 0.9801\n",
      "Epoch 24/100\n",
      " - 5s - loss: 0.0594 - acc: 0.9803\n",
      "Epoch 25/100\n",
      " - 5s - loss: 0.0590 - acc: 0.9806\n",
      "Epoch 26/100\n",
      " - 5s - loss: 0.0589 - acc: 0.9803\n",
      "Epoch 27/100\n",
      " - 5s - loss: 0.0585 - acc: 0.9809\n",
      "Epoch 28/100\n",
      " - 5s - loss: 0.0581 - acc: 0.9810\n",
      "Epoch 29/100\n",
      " - 5s - loss: 0.0581 - acc: 0.9810\n",
      "Epoch 30/100\n",
      " - 5s - loss: 0.0579 - acc: 0.9811\n",
      "Epoch 31/100\n",
      " - 5s - loss: 0.0575 - acc: 0.9811\n",
      "Epoch 32/100\n",
      " - 5s - loss: 0.0574 - acc: 0.9811\n",
      "Epoch 33/100\n",
      " - 5s - loss: 0.0572 - acc: 0.9809\n",
      "Epoch 34/100\n",
      " - 5s - loss: 0.0568 - acc: 0.9812\n",
      "Epoch 35/100\n",
      " - 5s - loss: 0.0569 - acc: 0.9813\n",
      "Epoch 36/100\n",
      " - 5s - loss: 0.0564 - acc: 0.9815\n",
      "Epoch 37/100\n",
      " - 5s - loss: 0.0562 - acc: 0.9815\n",
      "Epoch 38/100\n",
      " - 5s - loss: 0.0559 - acc: 0.9816\n",
      "Epoch 39/100\n",
      " - 5s - loss: 0.0556 - acc: 0.9816\n",
      "Epoch 40/100\n",
      " - 5s - loss: 0.0554 - acc: 0.9816\n",
      "Epoch 41/100\n",
      " - 5s - loss: 0.0551 - acc: 0.9820\n",
      "Epoch 42/100\n",
      " - 5s - loss: 0.0549 - acc: 0.9818\n",
      "Epoch 43/100\n",
      " - 5s - loss: 0.0548 - acc: 0.9819\n",
      "Epoch 44/100\n",
      " - 5s - loss: 0.0546 - acc: 0.9819\n",
      "Epoch 45/100\n",
      " - 5s - loss: 0.0544 - acc: 0.9819\n",
      "Epoch 46/100\n",
      " - 5s - loss: 0.0542 - acc: 0.9820\n",
      "Epoch 47/100\n",
      " - 5s - loss: 0.0541 - acc: 0.9824\n",
      "Epoch 48/100\n",
      " - 5s - loss: 0.0540 - acc: 0.9822\n",
      "Epoch 49/100\n",
      " - 5s - loss: 0.0538 - acc: 0.9824\n",
      "Epoch 50/100\n",
      " - 5s - loss: 0.0537 - acc: 0.9822\n",
      "Epoch 51/100\n",
      " - 5s - loss: 0.0535 - acc: 0.9825\n",
      "Epoch 52/100\n",
      " - 5s - loss: 0.0534 - acc: 0.9826\n",
      "Epoch 53/100\n",
      " - 5s - loss: 0.0534 - acc: 0.9828\n",
      "Epoch 54/100\n",
      " - 5s - loss: 0.0532 - acc: 0.9826\n",
      "Epoch 55/100\n",
      " - 5s - loss: 0.0530 - acc: 0.9826\n",
      "Epoch 56/100\n",
      " - 5s - loss: 0.0532 - acc: 0.9827\n",
      "Epoch 57/100\n",
      " - 5s - loss: 0.0530 - acc: 0.9828\n",
      "Epoch 58/100\n",
      " - 5s - loss: 0.0528 - acc: 0.9827\n",
      "Epoch 59/100\n",
      " - 5s - loss: 0.0527 - acc: 0.9828\n",
      "Epoch 60/100\n",
      " - 5s - loss: 0.0527 - acc: 0.9828\n",
      "Epoch 61/100\n",
      " - 5s - loss: 0.0526 - acc: 0.9828\n",
      "Epoch 62/100\n",
      " - 5s - loss: 0.0525 - acc: 0.9831\n",
      "Epoch 63/100\n",
      " - 5s - loss: 0.0523 - acc: 0.9825\n",
      "Epoch 64/100\n",
      " - 5s - loss: 0.0523 - acc: 0.9827\n",
      "Epoch 65/100\n",
      " - 5s - loss: 0.0523 - acc: 0.9829\n",
      "Epoch 66/100\n",
      " - 5s - loss: 0.0522 - acc: 0.9828\n",
      "Epoch 67/100\n",
      " - 5s - loss: 0.0522 - acc: 0.9829\n",
      "Epoch 68/100\n",
      " - 5s - loss: 0.0521 - acc: 0.9832\n",
      "Epoch 69/100\n",
      " - 5s - loss: 0.0521 - acc: 0.9830\n",
      "Epoch 70/100\n",
      " - 6s - loss: 0.0518 - acc: 0.9833\n",
      "Epoch 71/100\n",
      " - 5s - loss: 0.0519 - acc: 0.9832\n",
      "Epoch 72/100\n",
      " - 5s - loss: 0.0520 - acc: 0.9831\n",
      "Epoch 73/100\n",
      " - 5s - loss: 0.0518 - acc: 0.9832\n",
      "Epoch 74/100\n",
      " - 5s - loss: 0.0516 - acc: 0.9831\n",
      "Epoch 75/100\n",
      " - 5s - loss: 0.0518 - acc: 0.9834\n",
      "Epoch 76/100\n",
      " - 5s - loss: 0.0516 - acc: 0.9832\n",
      "Epoch 77/100\n",
      " - 5s - loss: 0.0515 - acc: 0.9834\n",
      "Epoch 78/100\n",
      " - 6s - loss: 0.0515 - acc: 0.9831\n",
      "Epoch 79/100\n",
      " - 5s - loss: 0.0515 - acc: 0.9833\n",
      "Epoch 80/100\n",
      " - 5s - loss: 0.0513 - acc: 0.9834\n",
      "Epoch 81/100\n",
      " - 5s - loss: 0.0514 - acc: 0.9830\n",
      "Epoch 82/100\n",
      " - 5s - loss: 0.0512 - acc: 0.9834\n",
      "Epoch 83/100\n",
      " - 5s - loss: 0.0513 - acc: 0.9834\n",
      "Epoch 84/100\n",
      " - 5s - loss: 0.0513 - acc: 0.9833\n",
      "Epoch 85/100\n",
      " - 5s - loss: 0.0512 - acc: 0.9834\n",
      "Epoch 86/100\n",
      " - 5s - loss: 0.0511 - acc: 0.9831\n",
      "Epoch 87/100\n",
      " - 5s - loss: 0.0509 - acc: 0.9835\n",
      "Epoch 88/100\n",
      " - 6s - loss: 0.0509 - acc: 0.9834\n",
      "Epoch 89/100\n",
      " - 6s - loss: 0.0509 - acc: 0.9836\n",
      "Epoch 90/100\n",
      " - 5s - loss: 0.0510 - acc: 0.9835\n",
      "Epoch 91/100\n",
      " - 5s - loss: 0.0510 - acc: 0.9834\n",
      "Epoch 92/100\n",
      " - 5s - loss: 0.0508 - acc: 0.9834\n",
      "Epoch 93/100\n",
      " - 6s - loss: 0.0507 - acc: 0.9836\n",
      "Epoch 94/100\n",
      " - 6s - loss: 0.0509 - acc: 0.9834\n",
      "Epoch 95/100\n",
      " - 6s - loss: 0.0508 - acc: 0.9835\n",
      "Epoch 96/100\n",
      " - 6s - loss: 0.0507 - acc: 0.9837\n",
      "Epoch 97/100\n",
      " - 5s - loss: 0.0507 - acc: 0.9836\n",
      "Epoch 98/100\n",
      " - 5s - loss: 0.0506 - acc: 0.9837\n",
      "Epoch 99/100\n",
      " - 5s - loss: 0.0506 - acc: 0.9836\n",
      "Epoch 100/100\n",
      " - 5s - loss: 0.0505 - acc: 0.9834\n"
     ]
    },
    {
     "data": {
      "text/plain": [
       "<keras.callbacks.History at 0x1a2659c710>"
      ]
     },
     "execution_count": 40,
     "metadata": {},
     "output_type": "execute_result"
    }
   ],
   "source": [
    "# Fit the model to the training data\n",
    "model.fit(\n",
    "    X_train_scaled,\n",
    "    y_train,\n",
    "    epochs=100,\n",
    "    shuffle=True,\n",
    "    verbose=2\n",
    ")"
   ]
  },
  {
   "cell_type": "code",
   "execution_count": 41,
   "metadata": {},
   "outputs": [
    {
     "name": "stdout",
     "output_type": "stream",
     "text": [
      "Normal Neural Network - Loss: 0.05222453046596612, Accuracy: 0.9837054593444478\n"
     ]
    }
   ],
   "source": [
    "model_loss, model_accuracy = model.evaluate(\n",
    "    X_test_scaled, y_test, verbose=2)\n",
    "print(\n",
    "    f\"Normal Neural Network - Loss: {model_loss}, Accuracy: {model_accuracy}\")"
   ]
  },
  {
   "cell_type": "code",
   "execution_count": 42,
   "metadata": {},
   "outputs": [],
   "source": [
    "#For this network, we simply add an additional hidden layer of 6 nodes\n",
    "deep_model = Sequential()\n",
    "deep_model.add(Dense(units=6, activation='relu', input_dim=122))\n",
    "deep_model.add(Dense(units=6, activation='relu'))\n",
    "deep_model.add(Dense(units=5, activation='softmax'))"
   ]
  },
  {
   "cell_type": "code",
   "execution_count": 43,
   "metadata": {},
   "outputs": [
    {
     "name": "stdout",
     "output_type": "stream",
     "text": [
      "_________________________________________________________________\n",
      "Layer (type)                 Output Shape              Param #   \n",
      "=================================================================\n",
      "dense_9 (Dense)              (None, 6)                 738       \n",
      "_________________________________________________________________\n",
      "dense_10 (Dense)             (None, 6)                 42        \n",
      "_________________________________________________________________\n",
      "dense_11 (Dense)             (None, 5)                 35        \n",
      "=================================================================\n",
      "Total params: 815\n",
      "Trainable params: 815\n",
      "Non-trainable params: 0\n",
      "_________________________________________________________________\n"
     ]
    }
   ],
   "source": [
    "deep_model.summary()"
   ]
  },
  {
   "cell_type": "code",
   "execution_count": 47,
   "metadata": {},
   "outputs": [
    {
     "name": "stdout",
     "output_type": "stream",
     "text": [
      "Epoch 1/100\n",
      " - 6s - loss: 0.2518 - acc: 0.9251\n",
      "Epoch 2/100\n",
      " - 5s - loss: 0.1143 - acc: 0.9628\n",
      "Epoch 3/100\n",
      " - 5s - loss: 0.0987 - acc: 0.9677\n",
      "Epoch 4/100\n",
      " - 5s - loss: 0.0895 - acc: 0.9708\n",
      "Epoch 5/100\n",
      " - 6s - loss: 0.0825 - acc: 0.9729\n",
      "Epoch 6/100\n",
      " - 7s - loss: 0.0773 - acc: 0.9746\n",
      "Epoch 7/100\n",
      " - 6s - loss: 0.0732 - acc: 0.9757\n",
      "Epoch 8/100\n",
      " - 5s - loss: 0.0696 - acc: 0.9772\n",
      "Epoch 9/100\n",
      " - 6s - loss: 0.0665 - acc: 0.9784\n",
      "Epoch 10/100\n",
      " - 7s - loss: 0.0644 - acc: 0.9788\n",
      "Epoch 11/100\n",
      " - 7s - loss: 0.0625 - acc: 0.9796\n",
      "Epoch 12/100\n",
      " - 6s - loss: 0.0605 - acc: 0.9800\n",
      "Epoch 13/100\n",
      " - 5s - loss: 0.0593 - acc: 0.9811\n",
      "Epoch 14/100\n",
      " - 5s - loss: 0.0583 - acc: 0.9816\n",
      "Epoch 15/100\n",
      " - 5s - loss: 0.0573 - acc: 0.9819\n",
      "Epoch 16/100\n",
      " - 5s - loss: 0.0562 - acc: 0.9819\n",
      "Epoch 17/100\n",
      " - 6s - loss: 0.0548 - acc: 0.9826\n",
      "Epoch 18/100\n",
      " - 5s - loss: 0.0538 - acc: 0.9825\n",
      "Epoch 19/100\n",
      " - 5s - loss: 0.0531 - acc: 0.9831\n",
      "Epoch 20/100\n",
      " - 5s - loss: 0.0527 - acc: 0.9831\n",
      "Epoch 21/100\n",
      " - 5s - loss: 0.0521 - acc: 0.9834\n",
      "Epoch 22/100\n",
      " - 5s - loss: 0.0516 - acc: 0.9835\n",
      "Epoch 23/100\n",
      " - 5s - loss: 0.0510 - acc: 0.9838\n",
      "Epoch 24/100\n",
      " - 5s - loss: 0.0505 - acc: 0.9839\n",
      "Epoch 25/100\n",
      " - 5s - loss: 0.0502 - acc: 0.9838\n",
      "Epoch 26/100\n",
      " - 5s - loss: 0.0497 - acc: 0.9838\n",
      "Epoch 27/100\n",
      " - 5s - loss: 0.0493 - acc: 0.9838\n",
      "Epoch 28/100\n",
      " - 5s - loss: 0.0490 - acc: 0.9840\n",
      "Epoch 29/100\n",
      " - 5s - loss: 0.0488 - acc: 0.9842\n",
      "Epoch 30/100\n",
      " - 5s - loss: 0.0484 - acc: 0.9843\n",
      "Epoch 31/100\n",
      " - 5s - loss: 0.0481 - acc: 0.9844\n",
      "Epoch 32/100\n",
      " - 5s - loss: 0.0478 - acc: 0.9847\n",
      "Epoch 33/100\n",
      " - 5s - loss: 0.0475 - acc: 0.9846\n",
      "Epoch 34/100\n",
      " - 5s - loss: 0.0474 - acc: 0.9846\n",
      "Epoch 35/100\n",
      " - 5s - loss: 0.0469 - acc: 0.9849\n",
      "Epoch 36/100\n",
      " - 5s - loss: 0.0468 - acc: 0.9851\n",
      "Epoch 37/100\n",
      " - 5s - loss: 0.0465 - acc: 0.9851\n",
      "Epoch 38/100\n",
      " - 6s - loss: 0.0462 - acc: 0.9851\n",
      "Epoch 39/100\n",
      " - 6s - loss: 0.0462 - acc: 0.9850\n",
      "Epoch 40/100\n",
      " - 8s - loss: 0.0461 - acc: 0.9853\n",
      "Epoch 41/100\n",
      " - 6s - loss: 0.0456 - acc: 0.9855\n",
      "Epoch 42/100\n",
      " - 6s - loss: 0.0455 - acc: 0.9853\n",
      "Epoch 43/100\n",
      " - 6s - loss: 0.0453 - acc: 0.9853\n",
      "Epoch 44/100\n",
      " - 5s - loss: 0.0454 - acc: 0.9853\n",
      "Epoch 45/100\n",
      " - 5s - loss: 0.0450 - acc: 0.9854\n",
      "Epoch 46/100\n",
      " - 5s - loss: 0.0450 - acc: 0.9853\n",
      "Epoch 47/100\n",
      " - 5s - loss: 0.0447 - acc: 0.9853\n",
      "Epoch 48/100\n",
      " - 5s - loss: 0.0449 - acc: 0.9853\n",
      "Epoch 49/100\n",
      " - 5s - loss: 0.0445 - acc: 0.9857\n",
      "Epoch 50/100\n",
      " - 5s - loss: 0.0444 - acc: 0.9855\n",
      "Epoch 51/100\n",
      " - 6s - loss: 0.0444 - acc: 0.9858\n",
      "Epoch 52/100\n",
      " - 7s - loss: 0.0440 - acc: 0.9856\n",
      "Epoch 53/100\n",
      " - 6s - loss: 0.0439 - acc: 0.9859\n",
      "Epoch 54/100\n",
      " - 6s - loss: 0.0439 - acc: 0.9856\n",
      "Epoch 55/100\n",
      " - 5s - loss: 0.0440 - acc: 0.9858\n",
      "Epoch 56/100\n",
      " - 5s - loss: 0.0439 - acc: 0.9857\n",
      "Epoch 57/100\n",
      " - 5s - loss: 0.0438 - acc: 0.9858\n",
      "Epoch 58/100\n",
      " - 5s - loss: 0.0437 - acc: 0.9857\n",
      "Epoch 59/100\n",
      " - 5s - loss: 0.0436 - acc: 0.9859\n",
      "Epoch 60/100\n",
      " - 5s - loss: 0.0435 - acc: 0.9861\n",
      "Epoch 61/100\n",
      " - 5s - loss: 0.0436 - acc: 0.9858\n",
      "Epoch 62/100\n",
      " - 6s - loss: 0.0436 - acc: 0.9856\n",
      "Epoch 63/100\n",
      " - 7s - loss: 0.0432 - acc: 0.9858\n",
      "Epoch 64/100\n",
      " - 5s - loss: 0.0431 - acc: 0.9859\n",
      "Epoch 65/100\n",
      " - 5s - loss: 0.0433 - acc: 0.9856\n",
      "Epoch 66/100\n",
      " - 6s - loss: 0.0432 - acc: 0.9859\n",
      "Epoch 67/100\n",
      " - 6s - loss: 0.0432 - acc: 0.9858\n",
      "Epoch 68/100\n",
      " - 5s - loss: 0.0431 - acc: 0.9857\n",
      "Epoch 69/100\n",
      " - 5s - loss: 0.0430 - acc: 0.9858\n",
      "Epoch 70/100\n",
      " - 5s - loss: 0.0430 - acc: 0.9860\n",
      "Epoch 71/100\n",
      " - 5s - loss: 0.0431 - acc: 0.9857\n",
      "Epoch 72/100\n",
      " - 5s - loss: 0.0427 - acc: 0.9861\n",
      "Epoch 73/100\n",
      " - 5s - loss: 0.0426 - acc: 0.9857\n",
      "Epoch 74/100\n",
      " - 5s - loss: 0.0427 - acc: 0.9862\n",
      "Epoch 75/100\n",
      " - 5s - loss: 0.0426 - acc: 0.9862\n",
      "Epoch 76/100\n",
      " - 5s - loss: 0.0424 - acc: 0.9861\n",
      "Epoch 77/100\n",
      " - 5s - loss: 0.0424 - acc: 0.9860\n",
      "Epoch 78/100\n",
      " - 5s - loss: 0.0421 - acc: 0.9859\n",
      "Epoch 79/100\n",
      " - 5s - loss: 0.0423 - acc: 0.9862\n",
      "Epoch 80/100\n",
      " - 5s - loss: 0.0422 - acc: 0.9861\n",
      "Epoch 81/100\n",
      " - 5s - loss: 0.0422 - acc: 0.9859\n",
      "Epoch 82/100\n",
      " - 5s - loss: 0.0422 - acc: 0.9860\n",
      "Epoch 83/100\n",
      " - 5s - loss: 0.0420 - acc: 0.9862\n",
      "Epoch 84/100\n",
      " - 5s - loss: 0.0420 - acc: 0.9862\n",
      "Epoch 85/100\n",
      " - 5s - loss: 0.0420 - acc: 0.9861\n",
      "Epoch 86/100\n",
      " - 6s - loss: 0.0419 - acc: 0.9862\n",
      "Epoch 87/100\n",
      " - 6s - loss: 0.0416 - acc: 0.9864\n",
      "Epoch 88/100\n",
      " - 5s - loss: 0.0419 - acc: 0.9862\n",
      "Epoch 89/100\n",
      " - 6s - loss: 0.0418 - acc: 0.9862\n",
      "Epoch 90/100\n",
      " - 6s - loss: 0.0419 - acc: 0.9861\n",
      "Epoch 91/100\n",
      " - 6s - loss: 0.0418 - acc: 0.9863\n",
      "Epoch 92/100\n",
      " - 5s - loss: 0.0415 - acc: 0.9865\n",
      "Epoch 93/100\n",
      " - 5s - loss: 0.0417 - acc: 0.9862\n",
      "Epoch 94/100\n",
      " - 5s - loss: 0.0415 - acc: 0.9862\n",
      "Epoch 95/100\n",
      " - 5s - loss: 0.0417 - acc: 0.9861\n",
      "Epoch 96/100\n",
      " - 5s - loss: 0.0414 - acc: 0.9861\n",
      "Epoch 97/100\n",
      " - 6s - loss: 0.0416 - acc: 0.9862\n",
      "Epoch 98/100\n",
      " - 6s - loss: 0.0415 - acc: 0.9864\n",
      "Epoch 99/100\n",
      " - 6s - loss: 0.0413 - acc: 0.9864\n",
      "Epoch 100/100\n",
      " - 6s - loss: 0.0415 - acc: 0.9864\n"
     ]
    },
    {
     "data": {
      "text/plain": [
       "<keras.callbacks.History at 0x1a27edaa90>"
      ]
     },
     "execution_count": 47,
     "metadata": {},
     "output_type": "execute_result"
    }
   ],
   "source": [
    "deep_model.compile(optimizer='adam',\n",
    "                   loss='categorical_crossentropy',\n",
    "                   metrics=['accuracy'])\n",
    "\n",
    "deep_model.fit(\n",
    "    X_train_scaled,\n",
    "    y_train,\n",
    "    epochs=100,\n",
    "    shuffle=True,\n",
    "    verbose=2\n",
    ")"
   ]
  },
  {
   "cell_type": "code",
   "execution_count": 48,
   "metadata": {},
   "outputs": [
    {
     "name": "stdout",
     "output_type": "stream",
     "text": [
      "Deep Neural Network - Loss: 0.04516289862386852, Accuracy: 0.9852945137240325\n"
     ]
    }
   ],
   "source": [
    "model_loss, model_accuracy = deep_model.evaluate(\n",
    "    X_test_scaled, y_test, verbose=2)\n",
    "print(f\"Deep Neural Network - Loss: {model_loss}, Accuracy: {model_accuracy}\")"
   ]
  },
  {
   "cell_type": "code",
   "execution_count": 49,
   "metadata": {
    "collapsed": true
   },
   "outputs": [],
   "source": [
    "# Save the model\n",
    "deep_model.save(\"cybersecurity_ml_model_trained.h5\")"
   ]
  },
  {
   "cell_type": "code",
   "execution_count": 50,
   "metadata": {},
   "outputs": [],
   "source": [
    "# Load the model\n",
    "cybersecurity_ml_model = load_model(\"cybersecurity_ml_model_trained.h5\")"
   ]
  },
  {
   "cell_type": "code",
   "execution_count": 51,
   "metadata": {},
   "outputs": [
    {
     "name": "stdout",
     "output_type": "stream",
     "text": [
      "Deep Neural Network - Loss: 0.04516289862386852, Accuracy: 0.9852945137240325\n"
     ]
    }
   ],
   "source": [
    "model_loss, model_accuracy = cybersecurity_ml_model.evaluate(\n",
    "    X_test_scaled, y_test, verbose=2)\n",
    "print(\n",
    "    f\"Deep Neural Network - Loss: {model_loss}, Accuracy: {model_accuracy}\")"
   ]
  },
  {
   "cell_type": "markdown",
   "metadata": {},
   "source": [
    "# Comparison of different ML Classifiers"
   ]
  },
  {
   "cell_type": "code",
   "execution_count": 53,
   "metadata": {},
   "outputs": [
    {
     "data": {
      "image/png": "[encoded data removed]",
      "text/plain": [
       "<matplotlib.figure.Figure at 0x1a25f47668>"
      ]
     },
     "metadata": {},
     "output_type": "display_data"
    }
   ],
   "source": [
    "\n",
    "classifiers = ('Decision Tree', 'Random Forest', 'K Nearest Neighbor', 'Deep Learning')\n",
    "y_pos = np.arange(len(classifiers))\n",
    "score = [dt_score, rf_score, knn_score, model_accuracy]\n",
    "\n",
    "plt . figure ( figsize =(16 , 12) ) \n",
    "plt.bar(y_pos, score, align='center', alpha=0.5)\n",
    "plt.xticks(y_pos, classifiers)\n",
    "plt.ylabel('Accuracy Score')\n",
    "plt.title('Accuracy vs ML Classifiers')\n",
    " \n",
    "plt.show()"
   ]
  },
  {
   "cell_type": "code",
   "execution_count": 54,
   "metadata": {
    "collapsed": true
   },
   "outputs": [],
   "source": [
    "spark.stop()"
   ]
  },
  {
   "cell_type": "code",
   "execution_count": null,
   "metadata": {
    "collapsed": true
   },
   "outputs": [],
   "source": []
  }
 ],
 "metadata": {
  "kernelspec": {
   "display_name": "Python 3",
   "language": "python",
   "name": "python3"
  },
  "language_info": {
   "codemirror_mode": {
    "name": "ipython",
    "version": 3
   },
   "file_extension": ".py",
   "mimetype": "text/x-python",
   "name": "python",
   "nbconvert_exporter": "python",
   "pygments_lexer": "ipython3",
   "version": "3.6.3"
  }
 },
 "nbformat": 4,
 "nbformat_minor": 2
}
